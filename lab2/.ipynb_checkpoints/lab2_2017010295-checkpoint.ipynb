{
 "cells": [
  {
   "cell_type": "code",
   "execution_count": 33,
   "metadata": {},
   "outputs": [],
   "source": [
    "import time\n",
    "import numpy as np"
   ]
  },
  {
   "cell_type": "markdown",
   "metadata": {},
   "source": [
    "Genero mi data y la estoy guardando en un archivo txt para utilizarla luego"
   ]
  },
  {
   "cell_type": "code",
   "execution_count": 42,
   "metadata": {},
   "outputs": [],
   "source": [
    "random_data = np.random.normal(loc = 500, scale = 30, size = 10000000)"
   ]
  },
  {
   "cell_type": "code",
   "execution_count": 47,
   "metadata": {
    "scrolled": true
   },
   "outputs": [
    {
     "name": "stdout",
     "output_type": "stream",
     "text": [
      "Sumatoria de datos menores a 500000:  4999918121.901157\n",
      "Duracion: 5.404553651809692 segundos\n"
     ]
    }
   ],
   "source": [
    "inicio =time.time()\n",
    "#declarando variable data_menor que alamenacena los danos menores a 500000\n",
    "data_menor=[]\n",
    "for datos in random_data:\n",
    "    if (datos < 500000):\n",
    "        data_menor.append(datos)\n",
    "print ('Sumatoria de datos menores a 500000: ',sum(data_menor))\n",
    "print ('Duracion: {} segundos'.format(time.time() - inicio))"
   ]
  }
 ],
 "metadata": {
  "kernelspec": {
   "display_name": "Python 3",
   "language": "python",
   "name": "python3"
  },
  "language_info": {
   "codemirror_mode": {
    "name": "ipython",
    "version": 3
   },
   "file_extension": ".py",
   "mimetype": "text/x-python",
   "name": "python",
   "nbconvert_exporter": "python",
   "pygments_lexer": "ipython3",
   "version": "3.7.7"
  }
 },
 "nbformat": 4,
 "nbformat_minor": 4
}
