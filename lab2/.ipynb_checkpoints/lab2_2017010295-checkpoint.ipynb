{
 "cells": [
  {
   "cell_type": "code",
   "execution_count": 143,
   "metadata": {},
   "outputs": [],
   "source": [
    "import time"
   ]
  },
  {
   "cell_type": "code",
   "execution_count": 157,
   "metadata": {
    "scrolled": true
   },
   "outputs": [
    {
     "name": "stdout",
     "output_type": "stream",
     "text": [
      "Sumatoria de datos menores a 500000:  4166412750\n",
      "Duracion: 0.029999494552612305 segundos\n"
     ]
    }
   ],
   "source": [
    "inicio =time.time()\n",
    "#declarando variable data_menor que alamenacena los danos menores a 500000\n",
    "data_menor=[]\n",
    "for datos in range(500,10000000,30):\n",
    "    if (datos < 500000):\n",
    "        data_menor.append(datos)\n",
    "print ('Sumatoria de datos menores a 500000: ',sum(data_menor))\n",
    "print ('Duracion: {} segundos'.format(time.time() - inicio))"
   ]
  }
 ],
 "metadata": {
  "kernelspec": {
   "display_name": "Python 3",
   "language": "python",
   "name": "python3"
  },
  "language_info": {
   "codemirror_mode": {
    "name": "ipython",
    "version": 3
   },
   "file_extension": ".py",
   "mimetype": "text/x-python",
   "name": "python",
   "nbconvert_exporter": "python",
   "pygments_lexer": "ipython3",
   "version": "3.7.7"
  }
 },
 "nbformat": 4,
 "nbformat_minor": 4
}
