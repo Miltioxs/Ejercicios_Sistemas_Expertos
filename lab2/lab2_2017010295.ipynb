{
 "cells": [
  {
   "cell_type": "code",
   "execution_count": 24,
   "metadata": {},
   "outputs": [],
   "source": [
    "import numpy as np\n",
    "import time"
   ]
  },
  {
   "cell_type": "code",
   "execution_count": 29,
   "metadata": {
    "scrolled": true
   },
   "outputs": [],
   "source": [
    "#Creacion de datos radom con una mediana de 500 y escala 30 de 10000000 de datos\n",
    "dataset = np.random.normal(500,30,10000000)"
   ]
  },
  {
   "cell_type": "code",
   "execution_count": 31,
   "metadata": {
    "scrolled": true
   },
   "outputs": [
    {
     "data": {
      "text/plain": [
       "array([486.24390637, 468.66543862, 474.33668269, ..., 473.29763723,\n",
       "       476.30996642, 506.88750203])"
      ]
     },
     "execution_count": 31,
     "metadata": {},
     "output_type": "execute_result"
    }
   ],
   "source": [
    "dataset"
   ]
  },
  {
   "cell_type": "code",
   "execution_count": 32,
   "metadata": {},
   "outputs": [
    {
     "name": "stdout",
     "output_type": "stream",
     "text": [
      "Sumatoria de datos menores a 500000:  4999974843.2934475\n",
      "Duracion: 7.04215931892395 segundos\n"
     ]
    }
   ],
   "source": [
    "inicio =time.time()\n",
    "#declarando variable data_menor que alamenacena los danos menores a 500000\n",
    "data_menor=[]\n",
    "#\n",
    "for datos in dataset: \n",
    "    if (datos < 500000):\n",
    "        data_menor.append(datos)\n",
    "print ('Sumatoria de datos menores a 500000: ',sum(data_menor))\n",
    "print ('Duracion: {} segundos'.format(time.time() - inicio))"
   ]
  }
 ],
 "metadata": {
  "kernelspec": {
   "display_name": "Python 3",
   "language": "python",
   "name": "python3"
  },
  "language_info": {
   "codemirror_mode": {
    "name": "ipython",
    "version": 3
   },
   "file_extension": ".py",
   "mimetype": "text/x-python",
   "name": "python",
   "nbconvert_exporter": "python",
   "pygments_lexer": "ipython3",
   "version": "3.7.7"
  }
 },
 "nbformat": 4,
 "nbformat_minor": 4
}
