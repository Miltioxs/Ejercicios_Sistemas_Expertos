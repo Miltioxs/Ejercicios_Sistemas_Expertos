{
 "cells": [
  {
   "cell_type": "code",
   "execution_count": 7,
   "metadata": {},
   "outputs": [],
   "source": [
    "import time\n",
    "import pandas as pd"
   ]
  },
  {
   "cell_type": "code",
   "execution_count": 8,
   "metadata": {},
   "outputs": [],
   "source": [
    "with open('libros_24_meses.txt') as venta_libros:\n",
    "    historial_vendidos = venta_libros.read().split('\\n')\n",
    "    \n",
    "with open('catalogo_libros.txt') as libros:\n",
    "    catalogo_libros = libros.read().split('\\n')"
   ]
  },
  {
   "cell_type": "code",
   "execution_count": 13,
   "metadata": {},
   "outputs": [
    {
     "name": "stdout",
     "output_type": "stream",
     "text": [
      "Cantidad de libros vendidos 96\n",
      "Duracion: 0.02200174331665039 segundos\n"
     ]
    }
   ],
   "source": [
    "inicio = time.time()\n",
    "ventas_periodicas =pd.Index(historial_vendidos)\n",
    "directorio_libros =pd.Index(catalogo_libros)\n",
    "libros_vendidos = ventas_periodicas.intersection(directorio_libros)\n",
    "print(\"Cantidad de libros vendidos {}\". format(len(libros_vendidos)))\n",
    "print('Duracion: {} segundos'.format(time.time() - inicio))"
   ]
  },
  {
   "cell_type": "code",
   "execution_count": 12,
   "metadata": {},
   "outputs": [
    {
     "name": "stdout",
     "output_type": "stream",
     "text": [
      "Cantidad de libros vendidos 96\n",
      "Duracion: 0.00800180435180664 segundos\n"
     ]
    }
   ],
   "source": [
    "inicio = time.time()\n",
    "#Calculo de los libros vendidos, utilizando un metodo de interseccion\n",
    "libros_vendidos = list(set(historial_vendidos).intersection(set(catalogo_libros)))\n",
    "print(\"Cantidad de libros vendidos {}\". format(len(libros_vendidos)))\n",
    "print('Duracion: {} segundos'.format(time.time() - inicio))"
   ]
  },
  {
   "cell_type": "code",
   "execution_count": null,
   "metadata": {},
   "outputs": [],
   "source": []
  }
 ],
 "metadata": {
  "kernelspec": {
   "display_name": "Python 3",
   "language": "python",
   "name": "python3"
  },
  "language_info": {
   "codemirror_mode": {
    "name": "ipython",
    "version": 3
   },
   "file_extension": ".py",
   "mimetype": "text/x-python",
   "name": "python",
   "nbconvert_exporter": "python",
   "pygments_lexer": "ipython3",
   "version": "3.7.7"
  }
 },
 "nbformat": 4,
 "nbformat_minor": 4
}
