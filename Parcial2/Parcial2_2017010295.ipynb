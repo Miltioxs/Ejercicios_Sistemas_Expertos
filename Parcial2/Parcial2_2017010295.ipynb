{
 "cells": [
  {
   "cell_type": "code",
   "execution_count": 4,
   "metadata": {},
   "outputs": [],
   "source": [
    "import time\n",
    "import numpy as np"
   ]
  },
  {
   "cell_type": "markdown",
   "metadata": {},
   "source": [
    "Genero mi data con la funcion np.ramdom.normal que acepta valores loc = mediana, scale = escala, size= la cantidad de datos"
   ]
  },
  {
   "cell_type": "code",
   "execution_count": 8,
   "metadata": {},
   "outputs": [
    {
     "data": {
      "text/plain": [
       "numpy.ndarray"
      ]
     },
     "execution_count": 8,
     "metadata": {},
     "output_type": "execute_result"
    }
   ],
   "source": [
    "random_data = np.random.normal(loc = 500, scale = 30, size = 10000000)\n",
    "type(random_data)"
   ]
  },
  {
   "cell_type": "markdown",
   "metadata": {},
   "source": [
    "Se busca realizar la sumatoria de los numeros menores a 500000, y luego imprimirlos, tambien con el tiempo de ejecucion que ha demorado el codigo."
   ]
  },
  {
   "cell_type": "code",
   "execution_count": 18,
   "metadata": {},
   "outputs": [
    {
     "name": "stdout",
     "output_type": "stream",
     "text": [
      "Sumatoria de datos menores a 500000:  5000083402.278187\n",
      "Duracion: 1.769115686416626 segundos\n"
     ]
    }
   ],
   "source": [
    "inicio =time.time()\n",
    "valores_menores = random_data[random_data <= 500000]\n",
    "print ('Sumatoria de datos menores a 500000: ',sum(valores_menores))\n",
    "print ('Duracion: {} segundos'.format(time.time() - inicio))"
   ]
  }
 ],
 "metadata": {
  "kernelspec": {
   "display_name": "Python 3",
   "language": "python",
   "name": "python3"
  },
  "language_info": {
   "codemirror_mode": {
    "name": "ipython",
    "version": 3
   },
   "file_extension": ".py",
   "mimetype": "text/x-python",
   "name": "python",
   "nbconvert_exporter": "python",
   "pygments_lexer": "ipython3",
   "version": "3.7.7"
  }
 },
 "nbformat": 4,
 "nbformat_minor": 4
}
